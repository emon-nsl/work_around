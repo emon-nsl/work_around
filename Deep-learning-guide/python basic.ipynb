{
 "cells": [
  {
   "cell_type": "code",
   "execution_count": 6,
   "metadata": {},
   "outputs": [
    {
     "name": "stdout",
     "output_type": "stream",
     "text": [
      "<generator object iterable at 0x7f170cc3cac0>\n"
     ]
    },
    {
     "data": {
      "text/plain": [
       "[0, 1, 2, 3, 4, 5, 6, 7, 8, 9]"
      ]
     },
     "execution_count": 6,
     "metadata": {},
     "output_type": "execute_result"
    }
   ],
   "source": [
    "#generator\n",
    "def iterable(x):\n",
    "    for i in range(x):\n",
    "        yield i\n",
    "print(iterable(10))\n",
    "l = list(iterable(10))\n",
    "l"
   ]
  },
  {
   "cell_type": "code",
   "execution_count": 11,
   "metadata": {},
   "outputs": [],
   "source": [
    "#decorator\n",
    "def pr(func):\n",
    "    print('--------------------')\n",
    "    func()\n",
    "    print('--------------------')"
   ]
  },
  {
   "cell_type": "code",
   "execution_count": 10,
   "metadata": {},
   "outputs": [
    {
     "name": "stdout",
     "output_type": "stream",
     "text": [
      "--------------------\n",
      "hi there\n",
      "--------------------\n"
     ]
    }
   ],
   "source": [
    "@pr\n",
    "def my_print():\n",
    "    print('hi there')"
   ]
  },
  {
   "cell_type": "code",
   "execution_count": 12,
   "metadata": {},
   "outputs": [
    {
     "name": "stdout",
     "output_type": "stream",
     "text": [
      "10\n"
     ]
    }
   ],
   "source": [
    "class MyNum():\n",
    "    def __init__(self, value):\n",
    "        self.value = value\n",
    "\n",
    "    def __add__(self, other):\n",
    "        return (self.value * 2) + (other.value * 2)\n",
    "\n",
    "a = MyNum(2)\n",
    "b = MyNum(3)\n",
    "\n",
    "c = a + b\n",
    "\n",
    "print(c)"
   ]
  },
  {
   "cell_type": "code",
   "execution_count": 13,
   "metadata": {},
   "outputs": [
    {
     "name": "stdout",
     "output_type": "stream",
     "text": [
      "25\n"
     ]
    }
   ],
   "source": [
    "class Rectangle:\n",
    "    def __init__(self, width, height):\n",
    "        self.width = width\n",
    "        self.height = height\n",
    "\n",
    "    def calculate_area(self):\n",
    "        return self.width * self.height\n",
    "\n",
    "    @classmethod\n",
    "    def new_square(cls, side_length):\n",
    "        return cls(side_length, side_length)\n",
    "\n",
    "square = Rectangle.new_square(5)\n",
    "print(square.calculate_area())"
   ]
  },
  {
   "cell_type": "code",
   "execution_count": 14,
   "metadata": {},
   "outputs": [],
   "source": [
    "class Pizza:\n",
    "    def __init__(self, toppings):\n",
    "        self.toppings = toppings\n",
    "\n",
    "    @staticmethod\n",
    "    def validate_topping(topping):\n",
    "        if topping == \"pineapple\":\n",
    "            raise ValueError(\"No pineapples!\")\n",
    "        else:\n",
    "            return True\n",
    "\n",
    "ingredients = [\"cheese\", \"onions\", \"spam\"]\n",
    "if all(Pizza.validate_topping(i) for i in ingredients):\n",
    "    pizza = Pizza(ingredients)"
   ]
  },
  {
   "cell_type": "code",
   "execution_count": null,
   "metadata": {},
   "outputs": [],
   "source": []
  }
 ],
 "metadata": {
  "kernelspec": {
   "display_name": "Python 3",
   "language": "python",
   "name": "python3"
  },
  "language_info": {
   "codemirror_mode": {
    "name": "ipython",
    "version": 3
   },
   "file_extension": ".py",
   "mimetype": "text/x-python",
   "name": "python",
   "nbconvert_exporter": "python",
   "pygments_lexer": "ipython3",
   "version": "3.8.3"
  }
 },
 "nbformat": 4,
 "nbformat_minor": 4
}
